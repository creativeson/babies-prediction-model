{
 "cells": [
  {
   "cell_type": "code",
   "execution_count": 3,
   "metadata": {},
   "outputs": [],
   "source": [
    "import warnings\n",
    "warnings.simplefilter('ignore')\n",
    "import pandas as pd\n",
    "import matplotlib.pyplot as plt\n",
    "import numpy as np\n",
    "import seaborn as sns"
   ]
  },
  {
   "cell_type": "code",
   "execution_count": 4,
   "metadata": {},
   "outputs": [],
   "source": [
    "from sklearn.model_selection import train_test_split\n",
    "\n",
    "from sklearn.linear_model import LinearRegression,Ridge,Lasso\n",
    "from sklearn.neighbors import KNeighborsRegressor\n",
    "from sklearn.tree import DecisionTreeRegressor\n",
    "from xgboost import XGBRegressor\n",
    "from sklearn.ensemble import RandomForestRegressor,GradientBoostingRegressor\n",
    "from sklearn.metrics import r2_score , mean_absolute_error , mean_squared_error"
   ]
  },
  {
   "cell_type": "code",
   "execution_count": 5,
   "metadata": {},
   "outputs": [],
   "source": [
    "from xgboost import XGBRegressor\n",
    "#import lightgbm as lgb"
   ]
  },
  {
   "cell_type": "code",
   "execution_count": 6,
   "metadata": {},
   "outputs": [],
   "source": [
    "df = pd.read_excel(\"marriage_numbers.xlsx\")"
   ]
  },
  {
   "cell_type": "code",
   "execution_count": 7,
   "metadata": {},
   "outputs": [],
   "source": [
    "X = df[['marriage_couples', 'female_marriage_age','male_marriage_age']]"
   ]
  },
  {
   "cell_type": "code",
   "execution_count": 8,
   "metadata": {},
   "outputs": [
    {
     "data": {
      "text/html": [
       "<div>\n",
       "<style scoped>\n",
       "    .dataframe tbody tr th:only-of-type {\n",
       "        vertical-align: middle;\n",
       "    }\n",
       "\n",
       "    .dataframe tbody tr th {\n",
       "        vertical-align: top;\n",
       "    }\n",
       "\n",
       "    .dataframe thead th {\n",
       "        text-align: right;\n",
       "    }\n",
       "</style>\n",
       "<table border=\"1\" class=\"dataframe\">\n",
       "  <thead>\n",
       "    <tr style=\"text-align: right;\">\n",
       "      <th></th>\n",
       "      <th>total_birth_numbers</th>\n",
       "    </tr>\n",
       "  </thead>\n",
       "  <tbody>\n",
       "    <tr>\n",
       "      <th>0</th>\n",
       "      <td>423356</td>\n",
       "    </tr>\n",
       "    <tr>\n",
       "      <th>1</th>\n",
       "      <td>414069</td>\n",
       "    </tr>\n",
       "    <tr>\n",
       "      <th>2</th>\n",
       "      <td>309230</td>\n",
       "    </tr>\n",
       "    <tr>\n",
       "      <th>3</th>\n",
       "      <td>321932</td>\n",
       "    </tr>\n",
       "    <tr>\n",
       "      <th>4</th>\n",
       "      <td>325613</td>\n",
       "    </tr>\n",
       "    <tr>\n",
       "      <th>5</th>\n",
       "      <td>325545</td>\n",
       "    </tr>\n",
       "    <tr>\n",
       "      <th>6</th>\n",
       "      <td>260354</td>\n",
       "    </tr>\n",
       "    <tr>\n",
       "      <th>7</th>\n",
       "      <td>204459</td>\n",
       "    </tr>\n",
       "    <tr>\n",
       "      <th>8</th>\n",
       "      <td>204414</td>\n",
       "    </tr>\n",
       "    <tr>\n",
       "      <th>9</th>\n",
       "      <td>198733</td>\n",
       "    </tr>\n",
       "    <tr>\n",
       "      <th>10</th>\n",
       "      <td>191310</td>\n",
       "    </tr>\n",
       "    <tr>\n",
       "      <th>11</th>\n",
       "      <td>166886</td>\n",
       "    </tr>\n",
       "    <tr>\n",
       "      <th>12</th>\n",
       "      <td>196627</td>\n",
       "    </tr>\n",
       "    <tr>\n",
       "      <th>13</th>\n",
       "      <td>229481</td>\n",
       "    </tr>\n",
       "    <tr>\n",
       "      <th>14</th>\n",
       "      <td>199113</td>\n",
       "    </tr>\n",
       "    <tr>\n",
       "      <th>15</th>\n",
       "      <td>210383</td>\n",
       "    </tr>\n",
       "    <tr>\n",
       "      <th>16</th>\n",
       "      <td>213598</td>\n",
       "    </tr>\n",
       "    <tr>\n",
       "      <th>17</th>\n",
       "      <td>208440</td>\n",
       "    </tr>\n",
       "    <tr>\n",
       "      <th>18</th>\n",
       "      <td>193844</td>\n",
       "    </tr>\n",
       "    <tr>\n",
       "      <th>19</th>\n",
       "      <td>181601</td>\n",
       "    </tr>\n",
       "    <tr>\n",
       "      <th>20</th>\n",
       "      <td>177767</td>\n",
       "    </tr>\n",
       "    <tr>\n",
       "      <th>21</th>\n",
       "      <td>165249</td>\n",
       "    </tr>\n",
       "    <tr>\n",
       "      <th>22</th>\n",
       "      <td>153820</td>\n",
       "    </tr>\n",
       "  </tbody>\n",
       "</table>\n",
       "</div>"
      ],
      "text/plain": [
       "    total_birth_numbers\n",
       "0                423356\n",
       "1                414069\n",
       "2                309230\n",
       "3                321932\n",
       "4                325613\n",
       "5                325545\n",
       "6                260354\n",
       "7                204459\n",
       "8                204414\n",
       "9                198733\n",
       "10               191310\n",
       "11               166886\n",
       "12               196627\n",
       "13               229481\n",
       "14               199113\n",
       "15               210383\n",
       "16               213598\n",
       "17               208440\n",
       "18               193844\n",
       "19               181601\n",
       "20               177767\n",
       "21               165249\n",
       "22               153820"
      ]
     },
     "execution_count": 8,
     "metadata": {},
     "output_type": "execute_result"
    }
   ],
   "source": [
    "y = df[['total_birth_numbers']]\n",
    "y"
   ]
  },
  {
   "cell_type": "markdown",
   "metadata": {},
   "source": [
    "# Train test split"
   ]
  },
  {
   "cell_type": "code",
   "execution_count": 27,
   "metadata": {},
   "outputs": [],
   "source": [
    "X_train , X_test , y_train , y_test = train_test_split(X , y , test_size = 0.1, random_state=10)"
   ]
  },
  {
   "cell_type": "code",
   "execution_count": 28,
   "metadata": {},
   "outputs": [
    {
     "data": {
      "text/plain": [
       "((20, 3), (3, 3), (20, 1), (3, 1))"
      ]
     },
     "execution_count": 28,
     "metadata": {},
     "output_type": "execute_result"
    }
   ],
   "source": [
    "X_train.shape , X_test.shape , y_train.shape , y_test.shape"
   ]
  },
  {
   "cell_type": "code",
   "execution_count": 29,
   "metadata": {},
   "outputs": [
    {
     "data": {
      "text/plain": [
       "RandomForestRegressor(bootstrap=True, criterion='mse', max_depth=10,\n",
       "                      max_features='auto', max_leaf_nodes=None,\n",
       "                      min_impurity_decrease=0.0, min_impurity_split=None,\n",
       "                      min_samples_leaf=1, min_samples_split=2,\n",
       "                      min_weight_fraction_leaf=0.0, n_estimators=500,\n",
       "                      n_jobs=None, oob_score=False, random_state=5, verbose=0,\n",
       "                      warm_start=False)"
      ]
     },
     "execution_count": 29,
     "metadata": {},
     "output_type": "execute_result"
    }
   ],
   "source": [
    "RF_model = RandomForestRegressor(random_state =5, n_estimators=500, max_depth=10)\n",
    "RF_model.fit(X_train, y_train)"
   ]
  },
  {
   "cell_type": "markdown",
   "metadata": {},
   "source": [
    "## The number of marriages is not the main reason for the low fertility rate. In order to save the crisis, finding out the reason behind the increasing marriage age should be the top priority."
   ]
  },
  {
   "cell_type": "code",
   "execution_count": 30,
   "metadata": {},
   "outputs": [
    {
     "name": "stdout",
     "output_type": "stream",
     "text": [
      "                     importance\n",
      "feature                        \n",
      "male_marriage_age          0.50\n",
      "female_marriage_age        0.42\n",
      "marriage_couples           0.08\n"
     ]
    },
    {
     "data": {
      "image/png": "[encoded data removed]",
      "text/plain": [
       "<Figure size 432x288 with 1 Axes>"
      ]
     },
     "metadata": {
      "needs_background": "light"
     },
     "output_type": "display_data"
    }
   ],
   "source": [
    "importances = pd.DataFrame({'feature':X_train.columns,'importance':np.round(RF_model.feature_importances_, 3)})\n",
    "importances = importances.sort_values('importance',ascending=False).set_index('feature');\n",
    "print(importances)\n",
    "importances.plot.bar();"
   ]
  },
  {
   "cell_type": "code",
   "execution_count": 31,
   "metadata": {},
   "outputs": [],
   "source": [
    "def model_feature(model):\n",
    "    model.fit(X_train , y_train)\n",
    "    y_pred = model.predict(X_test)\n",
    "    print(str(model)[0 : -2] + ' ' 'Model')\n",
    "    print('r2_score:{}'.format(round(r2_score(y_test , y_pred) , 2)))\n",
    "    print('MAE',round(mean_absolute_error(y_test , y_pred) , 2))\n",
    "    # print('MAPE' , round(mean_absolute_percentage_error(y_test , y_pred) , 2))\n",
    "    print('MSE' , round(mean_squared_error(y_test , y_pred) , 2))"
   ]
  },
  {
   "cell_type": "code",
   "execution_count": null,
   "metadata": {},
   "outputs": [],
   "source": [
    "#conda install -c conda-forge lightgbm"
   ]
  },
  {
   "cell_type": "code",
   "execution_count": 32,
   "metadata": {},
   "outputs": [],
   "source": [
    "model_list = [LinearRegression() ,XGBRegressor() , Ridge() , Lasso() ,\n",
    "              DecisionTreeRegressor(),RandomForestRegressor(),GradientBoostingRegressor()]\n",
    "model_list1 = []\n",
    "R2_score = []\n",
    "mae = []\n",
    "score = []\n",
    "mse = []\n",
    "for model in model_list:\n",
    "    model_list1.append(str(model)[0:-2])\n",
    "    model.fit(X_train , y_train)\n",
    "    y_pred = model.predict(X_test)\n",
    "    R2_score.append(round(r2_score(y_test , y_pred) , 2))\n",
    "    mae.append(round(mean_absolute_error(y_test , y_pred) , 2))\n",
    "    mse.append(round(mean_squared_error(y_test , y_pred) , 2))"
   ]
  },
  {
   "cell_type": "code",
   "execution_count": 33,
   "metadata": {},
   "outputs": [
    {
     "data": {
      "text/html": [
       "<div>\n",
       "<style scoped>\n",
       "    .dataframe tbody tr th:only-of-type {\n",
       "        vertical-align: middle;\n",
       "    }\n",
       "\n",
       "    .dataframe tbody tr th {\n",
       "        vertical-align: top;\n",
       "    }\n",
       "\n",
       "    .dataframe thead th {\n",
       "        text-align: right;\n",
       "    }\n",
       "</style>\n",
       "<table border=\"1\" class=\"dataframe\">\n",
       "  <thead>\n",
       "    <tr style=\"text-align: right;\">\n",
       "      <th></th>\n",
       "      <th>Model</th>\n",
       "      <th>R2_score</th>\n",
       "      <th>MAE</th>\n",
       "      <th>MSE</th>\n",
       "    </tr>\n",
       "  </thead>\n",
       "  <tbody>\n",
       "    <tr>\n",
       "      <th>6</th>\n",
       "      <td>GradientBoostingRegressor(alpha=0.9, criterion...</td>\n",
       "      <td>0.98</td>\n",
       "      <td>10662.21</td>\n",
       "      <td>1.297058e+08</td>\n",
       "    </tr>\n",
       "    <tr>\n",
       "      <th>4</th>\n",
       "      <td>DecisionTreeRegressor(criterion='mse', max_dep...</td>\n",
       "      <td>0.97</td>\n",
       "      <td>11459.00</td>\n",
       "      <td>2.374512e+08</td>\n",
       "    </tr>\n",
       "    <tr>\n",
       "      <th>1</th>\n",
       "      <td>XGBRegressor(base_score=None, booster=None, ca...</td>\n",
       "      <td>0.81</td>\n",
       "      <td>29986.21</td>\n",
       "      <td>1.407781e+09</td>\n",
       "    </tr>\n",
       "    <tr>\n",
       "      <th>2</th>\n",
       "      <td>Ridge(alpha=1.0, copy_X=True, fit_intercept=Tr...</td>\n",
       "      <td>0.69</td>\n",
       "      <td>46630.01</td>\n",
       "      <td>2.258374e+09</td>\n",
       "    </tr>\n",
       "    <tr>\n",
       "      <th>0</th>\n",
       "      <td>LinearRegression(copy_X=True, fit_intercept=Tr...</td>\n",
       "      <td>0.67</td>\n",
       "      <td>47894.30</td>\n",
       "      <td>2.406884e+09</td>\n",
       "    </tr>\n",
       "    <tr>\n",
       "      <th>3</th>\n",
       "      <td>Lasso(alpha=1.0, copy_X=True, fit_intercept=Tr...</td>\n",
       "      <td>0.67</td>\n",
       "      <td>47895.22</td>\n",
       "      <td>2.406973e+09</td>\n",
       "    </tr>\n",
       "    <tr>\n",
       "      <th>5</th>\n",
       "      <td>RandomForestRegressor(bootstrap=True, criterio...</td>\n",
       "      <td>0.55</td>\n",
       "      <td>52651.13</td>\n",
       "      <td>3.349636e+09</td>\n",
       "    </tr>\n",
       "  </tbody>\n",
       "</table>\n",
       "</div>"
      ],
      "text/plain": [
       "                                               Model  R2_score       MAE  \\\n",
       "6  GradientBoostingRegressor(alpha=0.9, criterion...      0.98  10662.21   \n",
       "4  DecisionTreeRegressor(criterion='mse', max_dep...      0.97  11459.00   \n",
       "1  XGBRegressor(base_score=None, booster=None, ca...      0.81  29986.21   \n",
       "2  Ridge(alpha=1.0, copy_X=True, fit_intercept=Tr...      0.69  46630.01   \n",
       "0  LinearRegression(copy_X=True, fit_intercept=Tr...      0.67  47894.30   \n",
       "3  Lasso(alpha=1.0, copy_X=True, fit_intercept=Tr...      0.67  47895.22   \n",
       "5  RandomForestRegressor(bootstrap=True, criterio...      0.55  52651.13   \n",
       "\n",
       "            MSE  \n",
       "6  1.297058e+08  \n",
       "4  2.374512e+08  \n",
       "1  1.407781e+09  \n",
       "2  2.258374e+09  \n",
       "0  2.406884e+09  \n",
       "3  2.406973e+09  \n",
       "5  3.349636e+09  "
      ]
     },
     "execution_count": 33,
     "metadata": {},
     "output_type": "execute_result"
    }
   ],
   "source": [
    "dict = {'Model':model_list1, 'R2_score':R2_score , 'MAE':mae , 'MSE':mse}\n",
    "model_df = pd.DataFrame(dict).sort_values(ascending = False , by = 'R2_score')\n",
    "model_df"
   ]
  },
  {
   "cell_type": "code",
   "execution_count": null,
   "metadata": {},
   "outputs": [],
   "source": []
  },
  {
   "cell_type": "markdown",
   "metadata": {},
   "source": [
    "# Try five features"
   ]
  },
  {
   "cell_type": "code",
   "execution_count": 34,
   "metadata": {},
   "outputs": [],
   "source": [
    "X1 = df[['marriage_couples', 'female_marriage_age','male_marriage_age','m_20to49_MarriageRate', 'f_20to49_MarriageRate']]\n",
    "y = df[['total_birth_numbers']]"
   ]
  },
  {
   "cell_type": "code",
   "execution_count": 35,
   "metadata": {},
   "outputs": [],
   "source": [
    "X_train , X_test , y_train , y_test = train_test_split(X1 , y , test_size = 0.1, random_state=10)"
   ]
  },
  {
   "cell_type": "code",
   "execution_count": 36,
   "metadata": {},
   "outputs": [
    {
     "data": {
      "text/plain": [
       "RandomForestRegressor(bootstrap=True, criterion='mse', max_depth=10,\n",
       "                      max_features='auto', max_leaf_nodes=None,\n",
       "                      min_impurity_decrease=0.0, min_impurity_split=None,\n",
       "                      min_samples_leaf=1, min_samples_split=2,\n",
       "                      min_weight_fraction_leaf=0.0, n_estimators=500,\n",
       "                      n_jobs=None, oob_score=False, random_state=5, verbose=0,\n",
       "                      warm_start=False)"
      ]
     },
     "execution_count": 36,
     "metadata": {},
     "output_type": "execute_result"
    }
   ],
   "source": [
    "RF_model = RandomForestRegressor(random_state =5, n_estimators=500, max_depth=10)\n",
    "RF_model.fit(X_train, y_train)"
   ]
  },
  {
   "cell_type": "code",
   "execution_count": 37,
   "metadata": {},
   "outputs": [
    {
     "name": "stdout",
     "output_type": "stream",
     "text": [
      "                       importance\n",
      "feature                          \n",
      "f_20to49_MarriageRate       0.256\n",
      "m_20to49_MarriageRate       0.250\n",
      "male_marriage_age           0.239\n",
      "female_marriage_age         0.192\n",
      "marriage_couples            0.063\n"
     ]
    },
    {
     "data": {
      "text/plain": [
       "<matplotlib.axes._subplots.AxesSubplot at 0x50f21c8>"
      ]
     },
     "execution_count": 37,
     "metadata": {},
     "output_type": "execute_result"
    },
    {
     "data": {
      "image/png": "[encoded data removed]",
      "text/plain": [
       "<Figure size 432x288 with 1 Axes>"
      ]
     },
     "metadata": {
      "needs_background": "light"
     },
     "output_type": "display_data"
    }
   ],
   "source": [
    "importances = pd.DataFrame({'feature':X_train.columns,'importance':np.round(RF_model.feature_importances_, 3)})\n",
    "importances = importances.sort_values('importance',ascending=False).set_index('feature');\n",
    "print(importances)\n",
    "importances.plot.bar()"
   ]
  },
  {
   "cell_type": "code",
   "execution_count": 38,
   "metadata": {},
   "outputs": [],
   "source": [
    "#KNeighborsRegressor()\n",
    "model_list = [LinearRegression() ,XGBRegressor() , Ridge() , Lasso() ,\n",
    "              DecisionTreeRegressor(),RandomForestRegressor(),GradientBoostingRegressor()]\n",
    "model_list1 = []\n",
    "R2_score = []\n",
    "mae = []\n",
    "score = []\n",
    "mse = []\n",
    "for model in model_list:\n",
    "    model_list1.append(str(model)[0:-2])\n",
    "    model.fit(X_train , y_train)\n",
    "    y_pred = model.predict(X_test)\n",
    "    R2_score.append(round(r2_score(y_test , y_pred) , 2))\n",
    "    mae.append(round(mean_absolute_error(y_test , y_pred) , 2))\n",
    "    mse.append(round(mean_squared_error(y_test , y_pred) , 2))"
   ]
  },
  {
   "cell_type": "code",
   "execution_count": 39,
   "metadata": {},
   "outputs": [
    {
     "data": {
      "text/html": [
       "<div>\n",
       "<style scoped>\n",
       "    .dataframe tbody tr th:only-of-type {\n",
       "        vertical-align: middle;\n",
       "    }\n",
       "\n",
       "    .dataframe tbody tr th {\n",
       "        vertical-align: top;\n",
       "    }\n",
       "\n",
       "    .dataframe thead th {\n",
       "        text-align: right;\n",
       "    }\n",
       "</style>\n",
       "<table border=\"1\" class=\"dataframe\">\n",
       "  <thead>\n",
       "    <tr style=\"text-align: right;\">\n",
       "      <th></th>\n",
       "      <th>Model</th>\n",
       "      <th>R2_score</th>\n",
       "      <th>MAE</th>\n",
       "      <th>MSE</th>\n",
       "    </tr>\n",
       "  </thead>\n",
       "  <tbody>\n",
       "    <tr>\n",
       "      <th>6</th>\n",
       "      <td>GradientBoostingRegressor(alpha=0.9, criterion...</td>\n",
       "      <td>0.98</td>\n",
       "      <td>10922.95</td>\n",
       "      <td>1.409720e+08</td>\n",
       "    </tr>\n",
       "    <tr>\n",
       "      <th>4</th>\n",
       "      <td>DecisionTreeRegressor(criterion='mse', max_dep...</td>\n",
       "      <td>0.97</td>\n",
       "      <td>12640.67</td>\n",
       "      <td>2.418009e+08</td>\n",
       "    </tr>\n",
       "    <tr>\n",
       "      <th>2</th>\n",
       "      <td>Ridge(alpha=1.0, copy_X=True, fit_intercept=Tr...</td>\n",
       "      <td>0.92</td>\n",
       "      <td>17064.41</td>\n",
       "      <td>5.588602e+08</td>\n",
       "    </tr>\n",
       "    <tr>\n",
       "      <th>0</th>\n",
       "      <td>LinearRegression(copy_X=True, fit_intercept=Tr...</td>\n",
       "      <td>0.88</td>\n",
       "      <td>17963.89</td>\n",
       "      <td>9.025419e+08</td>\n",
       "    </tr>\n",
       "    <tr>\n",
       "      <th>3</th>\n",
       "      <td>Lasso(alpha=1.0, copy_X=True, fit_intercept=Tr...</td>\n",
       "      <td>0.88</td>\n",
       "      <td>17960.54</td>\n",
       "      <td>9.022141e+08</td>\n",
       "    </tr>\n",
       "    <tr>\n",
       "      <th>5</th>\n",
       "      <td>RandomForestRegressor(bootstrap=True, criterio...</td>\n",
       "      <td>0.83</td>\n",
       "      <td>30355.60</td>\n",
       "      <td>1.270536e+09</td>\n",
       "    </tr>\n",
       "    <tr>\n",
       "      <th>1</th>\n",
       "      <td>XGBRegressor(base_score=None, booster=None, ca...</td>\n",
       "      <td>0.81</td>\n",
       "      <td>29862.42</td>\n",
       "      <td>1.409151e+09</td>\n",
       "    </tr>\n",
       "  </tbody>\n",
       "</table>\n",
       "</div>"
      ],
      "text/plain": [
       "                                               Model  R2_score       MAE  \\\n",
       "6  GradientBoostingRegressor(alpha=0.9, criterion...      0.98  10922.95   \n",
       "4  DecisionTreeRegressor(criterion='mse', max_dep...      0.97  12640.67   \n",
       "2  Ridge(alpha=1.0, copy_X=True, fit_intercept=Tr...      0.92  17064.41   \n",
       "0  LinearRegression(copy_X=True, fit_intercept=Tr...      0.88  17963.89   \n",
       "3  Lasso(alpha=1.0, copy_X=True, fit_intercept=Tr...      0.88  17960.54   \n",
       "5  RandomForestRegressor(bootstrap=True, criterio...      0.83  30355.60   \n",
       "1  XGBRegressor(base_score=None, booster=None, ca...      0.81  29862.42   \n",
       "\n",
       "            MSE  \n",
       "6  1.409720e+08  \n",
       "4  2.418009e+08  \n",
       "2  5.588602e+08  \n",
       "0  9.025419e+08  \n",
       "3  9.022141e+08  \n",
       "5  1.270536e+09  \n",
       "1  1.409151e+09  "
      ]
     },
     "execution_count": 39,
     "metadata": {},
     "output_type": "execute_result"
    }
   ],
   "source": [
    "dict = {'Model':model_list1, 'R2_score':R2_score , 'MAE':mae , 'MSE':mse}\n",
    "model_df = pd.DataFrame(dict).sort_values(ascending = False , by = 'R2_score')\n",
    "model_df"
   ]
  },
  {
   "cell_type": "markdown",
   "metadata": {},
   "source": [
    "## With two critical features, we can see the R2 score enhanced magnificently. Now, all regression algorithms can reach an R2 score of 0.8."
   ]
  },
  {
   "cell_type": "code",
   "execution_count": null,
   "metadata": {},
   "outputs": [],
   "source": []
  }
 ],
 "metadata": {
  "kernelspec": {
   "display_name": "Python 3",
   "language": "python",
   "name": "python3"
  },
  "language_info": {
   "codemirror_mode": {
    "name": "ipython",
    "version": 3
   },
   "file_extension": ".py",
   "mimetype": "text/x-python",
   "name": "python",
   "nbconvert_exporter": "python",
   "pygments_lexer": "ipython3",
   "version": "3.7.4"
  }
 },
 "nbformat": 4,
 "nbformat_minor": 4
}
